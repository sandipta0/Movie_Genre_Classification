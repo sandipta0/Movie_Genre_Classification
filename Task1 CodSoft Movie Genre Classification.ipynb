{
 "cells": [
  {
   "cell_type": "code",
   "execution_count": 1,
   "id": "ba0f9425",
   "metadata": {},
   "outputs": [],
   "source": [
    "import numpy as np\n",
    "import matplotlib.pyplot as plt\n",
    "import pandas as pd"
   ]
  },
  {
   "cell_type": "code",
   "execution_count": 3,
   "id": "adbcde07",
   "metadata": {},
   "outputs": [
    {
     "name": "stderr",
     "output_type": "stream",
     "text": [
      "C:\\Users\\sandi\\AppData\\Local\\Temp\\ipykernel_15296\\2660015561.py:3: ParserWarning: Falling back to the 'python' engine because the 'c' engine does not support regex separators (separators > 1 char and different from '\\s+' are interpreted as regex); you can avoid this warning by specifying engine='python'.\n",
      "  dataset=pd.read_csv('C:/Users/sandi/Downloads/archive (10)/Genre Classification Dataset/train_data.txt',delimiter=':::',header=None,index_col=0,names=columns)\n"
     ]
    },
    {
     "name": "stdout",
     "output_type": "stream",
     "text": [
      "                                              Title          Genre  \\\n",
      "1                     Oscar et la dame rose (2009)          drama    \n",
      "2                                     Cupid (1997)       thriller    \n",
      "3                 Young, Wild and Wonderful (1980)          adult    \n",
      "4                            The Secret Sin (1915)          drama    \n",
      "5                           The Unrecovered (2007)          drama    \n",
      "...                                             ...            ...   \n",
      "54210                              \"Bonino\" (1953)         comedy    \n",
      "54211                  Dead Girls Don't Cry (????)         horror    \n",
      "54212    Ronald Goedemondt: Ze bestaan echt (2008)    documentary    \n",
      "54213                     Make Your Own Bed (1944)         comedy    \n",
      "54214   Nature's Fury: Storm of the Century (2006)        history    \n",
      "\n",
      "                                             Description  \n",
      "1       Listening in to a conversation between his do...  \n",
      "2       A brother and sister with a past incestuous r...  \n",
      "3       As the bus empties the students for their fie...  \n",
      "4       To help their unemployed father make ends mee...  \n",
      "5       The film's title refers not only to the un-re...  \n",
      "...                                                  ...  \n",
      "54210   This short-lived NBC live sitcom centered on ...  \n",
      "54211   The NEXT Generation of EXPLOITATION. The sist...  \n",
      "54212   Ze bestaan echt, is a stand-up comedy about g...  \n",
      "54213   Walter and Vivian live in the country and hav...  \n",
      "54214   On Labor Day Weekend, 1935, the most intense ...  \n",
      "\n",
      "[54214 rows x 3 columns]\n"
     ]
    }
   ],
   "source": [
    "columns = [ 'Title' , 'Genre' , 'Description']\n",
    "column = ['Title' , 'Description']\n",
    "dataset=pd.read_csv('C:/Users/sandi/Downloads/archive (10)/Genre Classification Dataset/train_data.txt',delimiter=':::',header=None,index_col=0,names=columns)\n",
    "print(dataset)"
   ]
  },
  {
   "cell_type": "code",
   "execution_count": 4,
   "id": "9473931b",
   "metadata": {},
   "outputs": [],
   "source": [
    "#Data Preprocessing\n",
    "dataset.loc[:,'Description'] = dataset['Description'].astype(str).str.lower()"
   ]
  },
  {
   "cell_type": "code",
   "execution_count": 5,
   "id": "3e4c0e27",
   "metadata": {},
   "outputs": [
    {
     "name": "stdout",
     "output_type": "stream",
     "text": [
      "               Genre                                        Description\n",
      "1             drama    listening in to a conversation between his do...\n",
      "2          thriller    a brother and sister with a past incestuous r...\n",
      "3             adult    as the bus empties the students for their fie...\n",
      "4             drama    to help their unemployed father make ends mee...\n",
      "5             drama    the film's title refers not only to the un-re...\n",
      "...              ...                                                ...\n",
      "54210        comedy    this short-lived nbc live sitcom centered on ...\n",
      "54211        horror    the next generation of exploitation. the sist...\n",
      "54212   documentary    ze bestaan echt, is a stand-up comedy about g...\n",
      "54213        comedy    walter and vivian live in the country and hav...\n",
      "54214       history    on labor day weekend, 1935, the most intense ...\n",
      "\n",
      "[54214 rows x 2 columns]\n"
     ]
    }
   ],
   "source": [
    "dataset.drop('Title',axis=1,inplace=True)\n",
    "print(dataset)"
   ]
  },
  {
   "cell_type": "code",
   "execution_count": 6,
   "id": "81c83a0b",
   "metadata": {},
   "outputs": [
    {
     "name": "stdout",
     "output_type": "stream",
     "text": [
      "               Genre                                        Description\n",
      "1             drama    listening in to a conversation between his do...\n",
      "2          thriller    a brother and sister with a past incestuous r...\n",
      "3             adult    as the bus empties the students for their fie...\n",
      "4             drama    to help their unemployed father make ends mee...\n",
      "5             drama    the film's title refers not only to the un-re...\n",
      "...              ...                                                ...\n",
      "54210        comedy    this short-lived nbc live sitcom centered on ...\n",
      "54211        horror    the next generation of exploitation. the sist...\n",
      "54212   documentary    ze bestaan echt, is a stand-up comedy about g...\n",
      "54213        comedy    walter and vivian live in the country and hav...\n",
      "54214       history    on labor day weekend, 1935, the most intense ...\n",
      "\n",
      "[54104 rows x 2 columns]\n"
     ]
    }
   ],
   "source": [
    "dataset=dataset.drop_duplicates()\n",
    "print(dataset)"
   ]
  },
  {
   "cell_type": "code",
   "execution_count": 8,
   "id": "333ad802",
   "metadata": {},
   "outputs": [
    {
     "name": "stdout",
     "output_type": "stream",
     "text": [
      "  (0, 13463)\t0.11799505427318312\n",
      "  (0, 80433)\t0.16490992016174263\n",
      "  (0, 104939)\t0.1335194803882145\n",
      "  (0, 20056)\t0.0987208560888184\n",
      "  (0, 9252)\t0.1730294395726667\n",
      "  (0, 33275)\t0.18039320141159865\n",
      "  (0, 24111)\t0.1746323107092007\n",
      "  (0, 83308)\t0.11584576930219488\n",
      "  (0, 40634)\t0.07148007620592876\n",
      "  (0, 76597)\t0.02279581338144865\n",
      "  (0, 22488)\t0.09409848014574168\n",
      "  (0, 40981)\t0.09406859178372161\n",
      "  (0, 63799)\t0.061830319756368664\n",
      "  (0, 62512)\t0.048872386302883625\n",
      "  (0, 4426)\t0.12359220572451081\n",
      "  (0, 19491)\t0.13793450251448255\n",
      "  (0, 118056)\t0.14546210103316584\n",
      "  (0, 51155)\t0.12439065828730612\n",
      "  (0, 118615)\t0.1639084515458633\n",
      "  (0, 84836)\t0.10600106633544266\n",
      "  (0, 36370)\t0.1017231603187212\n",
      "  (0, 37225)\t0.16765739990057163\n",
      "  (0, 48023)\t0.09031372145055253\n",
      "  (0, 113265)\t0.10835630811815337\n",
      "  (0, 6471)\t0.13207373530162325\n",
      "  :\t:\n",
      "  (54103, 35902)\t0.11074324945024203\n",
      "  (54103, 35942)\t0.11254388034897783\n",
      "  (54103, 102220)\t0.15160027553667707\n",
      "  (54103, 54036)\t0.09372414913111625\n",
      "  (54103, 48808)\t0.13767628742767546\n",
      "  (54103, 4934)\t0.11843961454153606\n",
      "  (54103, 79945)\t0.14166914946027678\n",
      "  (54103, 44535)\t0.11205995779400792\n",
      "  (54103, 40736)\t0.05226803693705833\n",
      "  (54103, 60250)\t0.17587260677662594\n",
      "  (54103, 26885)\t0.08765094213172336\n",
      "  (54103, 24537)\t0.1072102233050154\n",
      "  (54103, 117326)\t0.06343182953567579\n",
      "  (54103, 65420)\t0.09123533604000987\n",
      "  (54103, 5197)\t0.05183509040171115\n",
      "  (54103, 116540)\t0.07484866013459512\n",
      "  (54103, 53978)\t0.05812006423446158\n",
      "  (54103, 71727)\t0.08831857882151938\n",
      "  (54103, 56081)\t0.092567469697858\n",
      "  (54103, 118071)\t0.042378485891636265\n",
      "  (54103, 77032)\t0.09567247827288404\n",
      "  (54103, 107539)\t0.13705139929039392\n",
      "  (54103, 5362)\t0.02860357414800976\n",
      "  (54103, 108668)\t0.061298532776110186\n",
      "  (54103, 51617)\t0.03274786199193652\n"
     ]
    }
   ],
   "source": [
    "#Dataset Vectorising\n",
    "x=dataset['Description'].values\n",
    "y=dataset['Genre'].values\n",
    "from sklearn.feature_extraction.text import TfidfVectorizer\n",
    "vectorizer = TfidfVectorizer()\n",
    "x=vectorizer.fit_transform(x)\n",
    "print(x)"
   ]
  },
  {
   "cell_type": "code",
   "execution_count": 9,
   "id": "d9e37cb3",
   "metadata": {},
   "outputs": [],
   "source": [
    "#Splitting Dataset\n",
    "from sklearn.model_selection import train_test_split\n",
    "x_train,x_test,y_train,y_test=train_test_split(x,y,test_size=0.2,random_state=0)"
   ]
  },
  {
   "cell_type": "code",
   "execution_count": 13,
   "id": "a09438c7",
   "metadata": {},
   "outputs": [
    {
     "name": "stdout",
     "output_type": "stream",
     "text": [
      "Naive Bayes Accuracy: 0.44543018205341467\n",
      "               precision    recall  f1-score   support\n",
      "\n",
      "      action        0.00      0.00      0.00       254\n",
      "       adult        0.00      0.00      0.00       118\n",
      "   adventure        0.00      0.00      0.00       136\n",
      "   animation        0.00      0.00      0.00        93\n",
      "   biography        0.00      0.00      0.00        48\n",
      "      comedy        0.60      0.03      0.05      1437\n",
      "       crime        0.00      0.00      0.00       108\n",
      " documentary        0.53      0.90      0.66      2599\n",
      "       drama        0.39      0.87      0.54      2784\n",
      "      family        0.00      0.00      0.00       157\n",
      "     fantasy        0.00      0.00      0.00        63\n",
      "   game-show        0.00      0.00      0.00        28\n",
      "     history        0.00      0.00      0.00        55\n",
      "      horror        0.00      0.00      0.00       429\n",
      "       music        0.00      0.00      0.00       137\n",
      "     musical        0.00      0.00      0.00        61\n",
      "     mystery        0.00      0.00      0.00        61\n",
      "        news        0.00      0.00      0.00        45\n",
      "  reality-tv        0.00      0.00      0.00       174\n",
      "     romance        0.00      0.00      0.00       124\n",
      "      sci-fi        0.00      0.00      0.00       124\n",
      "       short        0.67      0.00      0.00      1044\n",
      "       sport        0.00      0.00      0.00        89\n",
      "   talk-show        0.00      0.00      0.00        80\n",
      "    thriller        0.00      0.00      0.00       354\n",
      "         war        0.00      0.00      0.00        25\n",
      "     western        0.00      0.00      0.00       194\n",
      "\n",
      "     accuracy                           0.45     10821\n",
      "    macro avg       0.08      0.07      0.05     10821\n",
      " weighted avg       0.37      0.45      0.30     10821\n",
      "\n"
     ]
    },
    {
     "name": "stderr",
     "output_type": "stream",
     "text": [
      "C:\\Users\\sandi\\anaconda3\\lib\\site-packages\\sklearn\\metrics\\_classification.py:1344: UndefinedMetricWarning: Precision and F-score are ill-defined and being set to 0.0 in labels with no predicted samples. Use `zero_division` parameter to control this behavior.\n",
      "  _warn_prf(average, modifier, msg_start, len(result))\n",
      "C:\\Users\\sandi\\anaconda3\\lib\\site-packages\\sklearn\\metrics\\_classification.py:1344: UndefinedMetricWarning: Precision and F-score are ill-defined and being set to 0.0 in labels with no predicted samples. Use `zero_division` parameter to control this behavior.\n",
      "  _warn_prf(average, modifier, msg_start, len(result))\n",
      "C:\\Users\\sandi\\anaconda3\\lib\\site-packages\\sklearn\\metrics\\_classification.py:1344: UndefinedMetricWarning: Precision and F-score are ill-defined and being set to 0.0 in labels with no predicted samples. Use `zero_division` parameter to control this behavior.\n",
      "  _warn_prf(average, modifier, msg_start, len(result))\n"
     ]
    }
   ],
   "source": [
    "# Naive Bayes\n",
    "from sklearn.naive_bayes import MultinomialNB\n",
    "from sklearn.metrics import accuracy_score, classification_report\n",
    "nb_model = MultinomialNB()\n",
    "nb_model.fit(x_train, y_train)\n",
    "y_pred_nb = nb_model.predict(x_test)\n",
    "print(\"Naive Bayes Accuracy:\", accuracy_score(y_test, y_pred_nb))\n",
    "print(classification_report(y_test, y_pred_nb))"
   ]
  },
  {
   "cell_type": "code",
   "execution_count": 14,
   "id": "529b02ed",
   "metadata": {},
   "outputs": [
    {
     "name": "stderr",
     "output_type": "stream",
     "text": [
      "C:\\Users\\sandi\\anaconda3\\lib\\site-packages\\sklearn\\linear_model\\_logistic.py:458: ConvergenceWarning: lbfgs failed to converge (status=1):\n",
      "STOP: TOTAL NO. of ITERATIONS REACHED LIMIT.\n",
      "\n",
      "Increase the number of iterations (max_iter) or scale the data as shown in:\n",
      "    https://scikit-learn.org/stable/modules/preprocessing.html\n",
      "Please also refer to the documentation for alternative solver options:\n",
      "    https://scikit-learn.org/stable/modules/linear_model.html#logistic-regression\n",
      "  n_iter_i = _check_optimize_result(\n"
     ]
    },
    {
     "data": {
      "text/html": [
       "<style>#sk-container-id-1 {color: black;background-color: white;}#sk-container-id-1 pre{padding: 0;}#sk-container-id-1 div.sk-toggleable {background-color: white;}#sk-container-id-1 label.sk-toggleable__label {cursor: pointer;display: block;width: 100%;margin-bottom: 0;padding: 0.3em;box-sizing: border-box;text-align: center;}#sk-container-id-1 label.sk-toggleable__label-arrow:before {content: \"▸\";float: left;margin-right: 0.25em;color: #696969;}#sk-container-id-1 label.sk-toggleable__label-arrow:hover:before {color: black;}#sk-container-id-1 div.sk-estimator:hover label.sk-toggleable__label-arrow:before {color: black;}#sk-container-id-1 div.sk-toggleable__content {max-height: 0;max-width: 0;overflow: hidden;text-align: left;background-color: #f0f8ff;}#sk-container-id-1 div.sk-toggleable__content pre {margin: 0.2em;color: black;border-radius: 0.25em;background-color: #f0f8ff;}#sk-container-id-1 input.sk-toggleable__control:checked~div.sk-toggleable__content {max-height: 200px;max-width: 100%;overflow: auto;}#sk-container-id-1 input.sk-toggleable__control:checked~label.sk-toggleable__label-arrow:before {content: \"▾\";}#sk-container-id-1 div.sk-estimator input.sk-toggleable__control:checked~label.sk-toggleable__label {background-color: #d4ebff;}#sk-container-id-1 div.sk-label input.sk-toggleable__control:checked~label.sk-toggleable__label {background-color: #d4ebff;}#sk-container-id-1 input.sk-hidden--visually {border: 0;clip: rect(1px 1px 1px 1px);clip: rect(1px, 1px, 1px, 1px);height: 1px;margin: -1px;overflow: hidden;padding: 0;position: absolute;width: 1px;}#sk-container-id-1 div.sk-estimator {font-family: monospace;background-color: #f0f8ff;border: 1px dotted black;border-radius: 0.25em;box-sizing: border-box;margin-bottom: 0.5em;}#sk-container-id-1 div.sk-estimator:hover {background-color: #d4ebff;}#sk-container-id-1 div.sk-parallel-item::after {content: \"\";width: 100%;border-bottom: 1px solid gray;flex-grow: 1;}#sk-container-id-1 div.sk-label:hover label.sk-toggleable__label {background-color: #d4ebff;}#sk-container-id-1 div.sk-serial::before {content: \"\";position: absolute;border-left: 1px solid gray;box-sizing: border-box;top: 0;bottom: 0;left: 50%;z-index: 0;}#sk-container-id-1 div.sk-serial {display: flex;flex-direction: column;align-items: center;background-color: white;padding-right: 0.2em;padding-left: 0.2em;position: relative;}#sk-container-id-1 div.sk-item {position: relative;z-index: 1;}#sk-container-id-1 div.sk-parallel {display: flex;align-items: stretch;justify-content: center;background-color: white;position: relative;}#sk-container-id-1 div.sk-item::before, #sk-container-id-1 div.sk-parallel-item::before {content: \"\";position: absolute;border-left: 1px solid gray;box-sizing: border-box;top: 0;bottom: 0;left: 50%;z-index: -1;}#sk-container-id-1 div.sk-parallel-item {display: flex;flex-direction: column;z-index: 1;position: relative;background-color: white;}#sk-container-id-1 div.sk-parallel-item:first-child::after {align-self: flex-end;width: 50%;}#sk-container-id-1 div.sk-parallel-item:last-child::after {align-self: flex-start;width: 50%;}#sk-container-id-1 div.sk-parallel-item:only-child::after {width: 0;}#sk-container-id-1 div.sk-dashed-wrapped {border: 1px dashed gray;margin: 0 0.4em 0.5em 0.4em;box-sizing: border-box;padding-bottom: 0.4em;background-color: white;}#sk-container-id-1 div.sk-label label {font-family: monospace;font-weight: bold;display: inline-block;line-height: 1.2em;}#sk-container-id-1 div.sk-label-container {text-align: center;}#sk-container-id-1 div.sk-container {/* jupyter's `normalize.less` sets `[hidden] { display: none; }` but bootstrap.min.css set `[hidden] { display: none !important; }` so we also need the `!important` here to be able to override the default hidden behavior on the sphinx rendered scikit-learn.org. See: https://github.com/scikit-learn/scikit-learn/issues/21755 */display: inline-block !important;position: relative;}#sk-container-id-1 div.sk-text-repr-fallback {display: none;}</style><div id=\"sk-container-id-1\" class=\"sk-top-container\"><div class=\"sk-text-repr-fallback\"><pre>LogisticRegression(random_state=0)</pre><b>In a Jupyter environment, please rerun this cell to show the HTML representation or trust the notebook. <br />On GitHub, the HTML representation is unable to render, please try loading this page with nbviewer.org.</b></div><div class=\"sk-container\" hidden><div class=\"sk-item\"><div class=\"sk-estimator sk-toggleable\"><input class=\"sk-toggleable__control sk-hidden--visually\" id=\"sk-estimator-id-1\" type=\"checkbox\" checked><label for=\"sk-estimator-id-1\" class=\"sk-toggleable__label sk-toggleable__label-arrow\">LogisticRegression</label><div class=\"sk-toggleable__content\"><pre>LogisticRegression(random_state=0)</pre></div></div></div></div></div>"
      ],
      "text/plain": [
       "LogisticRegression(random_state=0)"
      ]
     },
     "execution_count": 14,
     "metadata": {},
     "output_type": "execute_result"
    }
   ],
   "source": [
    "from sklearn.linear_model import LogisticRegression\n",
    "classifier = LogisticRegression(random_state = 0)\n",
    "classifier.fit(x_train, y_train)"
   ]
  },
  {
   "cell_type": "code",
   "execution_count": 15,
   "id": "318ea74f",
   "metadata": {},
   "outputs": [
    {
     "name": "stdout",
     "output_type": "stream",
     "text": [
      "[[' drama ' ' western ']\n",
      " [' comedy ' ' adult ']\n",
      " [' documentary ' ' documentary ']\n",
      " ...\n",
      " [' comedy ' ' drama ']\n",
      " [' documentary ' ' documentary ']\n",
      " [' action ' ' comedy ']]\n"
     ]
    }
   ],
   "source": [
    "y_pred=classifier.predict(x_test)\n",
    "print(np.concatenate((y_pred.reshape(len(y_pred),1),y_test.reshape(len(y_test),1)),1))"
   ]
  },
  {
   "cell_type": "code",
   "execution_count": 16,
   "id": "a5cadb39",
   "metadata": {},
   "outputs": [
    {
     "name": "stdout",
     "output_type": "stream",
     "text": [
      "               precision    recall  f1-score   support\n",
      "\n",
      "      action        0.19      0.49      0.27        97\n",
      "       adult        0.18      0.75      0.29        28\n",
      "   adventure        0.08      0.73      0.15        15\n",
      "   animation        0.02      1.00      0.04         2\n",
      "   biography        0.00      0.00      0.00         0\n",
      "      comedy        0.61      0.55      0.58      1605\n",
      "       crime        0.01      0.33      0.02         3\n",
      " documentary        0.88      0.65      0.75      3511\n",
      "       drama        0.81      0.54      0.65      4219\n",
      "      family        0.06      0.69      0.11        13\n",
      "     fantasy        0.00      0.00      0.00         1\n",
      "   game-show        0.54      0.79      0.64        19\n",
      "     history        0.00      0.00      0.00         0\n",
      "      horror        0.57      0.76      0.65       320\n",
      "       music        0.42      0.64      0.51        91\n",
      "     musical        0.00      0.00      0.00         0\n",
      "     mystery        0.00      0.00      0.00         0\n",
      "        news        0.00      0.00      0.00         0\n",
      "  reality-tv        0.18      0.62      0.28        52\n",
      "     romance        0.00      0.00      0.00         1\n",
      "      sci-fi        0.16      0.57      0.25        35\n",
      "       short        0.29      0.53      0.37       561\n",
      "       sport        0.13      0.92      0.24        13\n",
      "   talk-show        0.19      0.68      0.29        22\n",
      "    thriller        0.11      0.51      0.18        75\n",
      "         war        0.00      0.00      0.00         0\n",
      "     western        0.66      0.93      0.78       138\n",
      "\n",
      "     accuracy                           0.59     10821\n",
      "    macro avg       0.23      0.47      0.26     10821\n",
      " weighted avg       0.74      0.59      0.64     10821\n",
      "\n"
     ]
    },
    {
     "data": {
      "text/plain": [
       "0.5888550041585805"
      ]
     },
     "execution_count": 16,
     "metadata": {},
     "output_type": "execute_result"
    }
   ],
   "source": [
    "from sklearn.metrics import confusion_matrix, accuracy_score,classification_report\n",
    "print(classification_report(y_pred, y_test,zero_division=0))\n",
    "accuracy_score(y_test, y_pred)"
   ]
  },
  {
   "cell_type": "code",
   "execution_count": null,
   "id": "a8a00c2c",
   "metadata": {},
   "outputs": [],
   "source": [
    "# Support Vector Machine\n",
    "\n",
    "from sklearn.svm import SVC\n",
    "from sklearn.metrics import accuracy_score, classification_report\n",
    "svm_model = SVC(kernel='linear')\n",
    "svm_model.fit(x_train, y_train)\n",
    "y_pred_svm = svm_model.predict(x_test)\n",
    "print(\"SVM Accuracy:\", accuracy_score(y_test, y_pred_svm))\n",
    "print(classification_report(y_test, y_pred_svm))\n"
   ]
  },
  {
   "cell_type": "code",
   "execution_count": null,
   "id": "bfc1b332",
   "metadata": {},
   "outputs": [],
   "source": []
  }
 ],
 "metadata": {
  "kernelspec": {
   "display_name": "Python 3 (ipykernel)",
   "language": "python",
   "name": "python3"
  },
  "language_info": {
   "codemirror_mode": {
    "name": "ipython",
    "version": 3
   },
   "file_extension": ".py",
   "mimetype": "text/x-python",
   "name": "python",
   "nbconvert_exporter": "python",
   "pygments_lexer": "ipython3",
   "version": "3.10.9"
  }
 },
 "nbformat": 4,
 "nbformat_minor": 5
}
